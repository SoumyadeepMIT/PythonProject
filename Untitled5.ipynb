{
 "cells": [
  {
   "cell_type": "markdown",
   "metadata": {},
   "source": [
    "# Stock Market Predictor"
   ]
  },
  {
   "cell_type": "markdown",
   "metadata": {},
   "source": [
    "Company- Tata Global"
   ]
  },
  {
   "cell_type": "code",
   "execution_count": 112,
   "metadata": {},
   "outputs": [],
   "source": [
    "import numpy as np\n",
    "import pandas as pd"
   ]
  },
  {
   "cell_type": "code",
   "execution_count": 79,
   "metadata": {},
   "outputs": [],
   "source": [
    "df=pd.read_csv('C:/Users/soumy/Downloads/NSE-TATAGLOBAL.csv')"
   ]
  },
  {
   "cell_type": "code",
   "execution_count": 80,
   "metadata": {},
   "outputs": [
    {
     "data": {
      "text/html": [
       "<div>\n",
       "<style scoped>\n",
       "    .dataframe tbody tr th:only-of-type {\n",
       "        vertical-align: middle;\n",
       "    }\n",
       "\n",
       "    .dataframe tbody tr th {\n",
       "        vertical-align: top;\n",
       "    }\n",
       "\n",
       "    .dataframe thead th {\n",
       "        text-align: right;\n",
       "    }\n",
       "</style>\n",
       "<table border=\"1\" class=\"dataframe\">\n",
       "  <thead>\n",
       "    <tr style=\"text-align: right;\">\n",
       "      <th></th>\n",
       "      <th>Date</th>\n",
       "      <th>Open</th>\n",
       "      <th>High</th>\n",
       "      <th>Low</th>\n",
       "      <th>Last</th>\n",
       "      <th>Close</th>\n",
       "      <th>Total Trade Quantity</th>\n",
       "      <th>Turnover (Lacs)</th>\n",
       "    </tr>\n",
       "  </thead>\n",
       "  <tbody>\n",
       "    <tr>\n",
       "      <th>0</th>\n",
       "      <td>2019-01-04</td>\n",
       "      <td>210.60</td>\n",
       "      <td>214.90</td>\n",
       "      <td>210.00</td>\n",
       "      <td>213.50</td>\n",
       "      <td>213.80</td>\n",
       "      <td>1213181.0</td>\n",
       "      <td>2583.05</td>\n",
       "    </tr>\n",
       "    <tr>\n",
       "      <th>1</th>\n",
       "      <td>2019-01-03</td>\n",
       "      <td>214.95</td>\n",
       "      <td>215.35</td>\n",
       "      <td>209.90</td>\n",
       "      <td>210.55</td>\n",
       "      <td>210.05</td>\n",
       "      <td>2096553.0</td>\n",
       "      <td>4433.50</td>\n",
       "    </tr>\n",
       "    <tr>\n",
       "      <th>2</th>\n",
       "      <td>2019-01-02</td>\n",
       "      <td>219.00</td>\n",
       "      <td>220.35</td>\n",
       "      <td>213.60</td>\n",
       "      <td>214.20</td>\n",
       "      <td>214.60</td>\n",
       "      <td>1081778.0</td>\n",
       "      <td>2340.31</td>\n",
       "    </tr>\n",
       "    <tr>\n",
       "      <th>3</th>\n",
       "      <td>2019-01-01</td>\n",
       "      <td>219.95</td>\n",
       "      <td>221.05</td>\n",
       "      <td>218.05</td>\n",
       "      <td>218.95</td>\n",
       "      <td>219.10</td>\n",
       "      <td>716275.0</td>\n",
       "      <td>1571.63</td>\n",
       "    </tr>\n",
       "    <tr>\n",
       "      <th>4</th>\n",
       "      <td>2018-12-31</td>\n",
       "      <td>222.00</td>\n",
       "      <td>223.65</td>\n",
       "      <td>218.85</td>\n",
       "      <td>219.55</td>\n",
       "      <td>219.40</td>\n",
       "      <td>965858.0</td>\n",
       "      <td>2131.09</td>\n",
       "    </tr>\n",
       "  </tbody>\n",
       "</table>\n",
       "</div>"
      ],
      "text/plain": [
       "         Date    Open    High     Low    Last   Close  Total Trade Quantity  \\\n",
       "0  2019-01-04  210.60  214.90  210.00  213.50  213.80             1213181.0   \n",
       "1  2019-01-03  214.95  215.35  209.90  210.55  210.05             2096553.0   \n",
       "2  2019-01-02  219.00  220.35  213.60  214.20  214.60             1081778.0   \n",
       "3  2019-01-01  219.95  221.05  218.05  218.95  219.10              716275.0   \n",
       "4  2018-12-31  222.00  223.65  218.85  219.55  219.40              965858.0   \n",
       "\n",
       "   Turnover (Lacs)  \n",
       "0          2583.05  \n",
       "1          4433.50  \n",
       "2          2340.31  \n",
       "3          1571.63  \n",
       "4          2131.09  "
      ]
     },
     "execution_count": 80,
     "metadata": {},
     "output_type": "execute_result"
    }
   ],
   "source": [
    "df.head()"
   ]
  },
  {
   "cell_type": "code",
   "execution_count": 82,
   "metadata": {},
   "outputs": [
    {
     "data": {
      "text/html": [
       "<div>\n",
       "<style scoped>\n",
       "    .dataframe tbody tr th:only-of-type {\n",
       "        vertical-align: middle;\n",
       "    }\n",
       "\n",
       "    .dataframe tbody tr th {\n",
       "        vertical-align: top;\n",
       "    }\n",
       "\n",
       "    .dataframe thead th {\n",
       "        text-align: right;\n",
       "    }\n",
       "</style>\n",
       "<table border=\"1\" class=\"dataframe\">\n",
       "  <thead>\n",
       "    <tr style=\"text-align: right;\">\n",
       "      <th></th>\n",
       "      <th>Date</th>\n",
       "      <th>Close</th>\n",
       "    </tr>\n",
       "  </thead>\n",
       "  <tbody>\n",
       "    <tr>\n",
       "      <th>0</th>\n",
       "      <td>2019-01-04</td>\n",
       "      <td>213.8</td>\n",
       "    </tr>\n",
       "    <tr>\n",
       "      <th>1</th>\n",
       "      <td>2019-01-03</td>\n",
       "      <td>210.05</td>\n",
       "    </tr>\n",
       "    <tr>\n",
       "      <th>2</th>\n",
       "      <td>2019-01-02</td>\n",
       "      <td>214.6</td>\n",
       "    </tr>\n",
       "    <tr>\n",
       "      <th>3</th>\n",
       "      <td>2019-01-01</td>\n",
       "      <td>219.1</td>\n",
       "    </tr>\n",
       "    <tr>\n",
       "      <th>4</th>\n",
       "      <td>2018-12-31</td>\n",
       "      <td>219.4</td>\n",
       "    </tr>\n",
       "  </tbody>\n",
       "</table>\n",
       "</div>"
      ],
      "text/plain": [
       "         Date   Close\n",
       "0  2019-01-04   213.8\n",
       "1  2019-01-03  210.05\n",
       "2  2019-01-02   214.6\n",
       "3  2019-01-01   219.1\n",
       "4  2018-12-31   219.4"
      ]
     },
     "execution_count": 82,
     "metadata": {},
     "output_type": "execute_result"
    }
   ],
   "source": [
    "data = df.sort_index(ascending=True, axis=0)\n",
    "ndf=pd.DataFrame(index=range(0,len(df)),columns=['Date','Close'])\n",
    "for i in range(len(data)):\n",
    "    ndf['Date'][i]=data['Date'][i]\n",
    "    ndf['Close'][i]=data['Close'][i]\n",
    "ndf.head()"
   ]
  },
  {
   "cell_type": "code",
   "execution_count": 83,
   "metadata": {},
   "outputs": [
    {
     "name": "stdout",
     "output_type": "stream",
     "text": [
      "0      2019-01-04\n",
      "1      2019-01-03\n",
      "2      2019-01-02\n",
      "3      2019-01-01\n",
      "4      2018-12-31\n",
      "          ...    \n",
      "2095   2010-07-27\n",
      "2096   2010-07-26\n",
      "2097   2010-07-23\n",
      "2098   2010-07-22\n",
      "2099   2010-07-21\n",
      "Name: Date, Length: 2100, dtype: datetime64[ns]\n"
     ]
    }
   ],
   "source": [
    "ndf['Date']=pd.to_datetime(ndf['Date'])\n",
    "print(ndf['Date'])"
   ]
  },
  {
   "cell_type": "code",
   "execution_count": 84,
   "metadata": {},
   "outputs": [
    {
     "name": "stdout",
     "output_type": "stream",
     "text": [
      "(2100, 2)\n"
     ]
    }
   ],
   "source": [
    "print(ndf.shape)"
   ]
  },
  {
   "cell_type": "code",
   "execution_count": 85,
   "metadata": {},
   "outputs": [
    {
     "name": "stdout",
     "output_type": "stream",
     "text": [
      "0       737063\n",
      "1       737062\n",
      "2       737061\n",
      "3       737060\n",
      "4       737059\n",
      "         ...  \n",
      "2095    733980\n",
      "2096    733979\n",
      "2097    733976\n",
      "2098    733975\n",
      "2099    733974\n",
      "Name: Date, Length: 2100, dtype: int64\n"
     ]
    }
   ],
   "source": [
    "import datetime as dt\n",
    "ndf['Date']=ndf['Date'].map(dt.datetime.toordinal)\n",
    "print(ndf['Date'])"
   ]
  },
  {
   "cell_type": "code",
   "execution_count": 86,
   "metadata": {},
   "outputs": [],
   "source": [
    "train=ndf[:1600]\n",
    "test=ndf[1600:]\n",
    "X_train=train.drop('Close',axis=1)\n",
    "Y_train=train['Close']\n",
    "X_test=test.drop('Close',axis=1)\n",
    "Y_test=test['Close']"
   ]
  },
  {
   "cell_type": "code",
   "execution_count": 87,
   "metadata": {},
   "outputs": [],
   "source": [
    "import matplotlib.pyplot as plt\n",
    "\n",
    "from sklearn import datasets\n",
    "\n",
    "from sklearn import linear_model"
   ]
  },
  {
   "cell_type": "code",
   "execution_count": 88,
   "metadata": {},
   "outputs": [
    {
     "name": "stdout",
     "output_type": "stream",
     "text": [
      "17.545025808245754\n"
     ]
    }
   ],
   "source": [
    "model=linear_model.LinearRegression()\n",
    "model.fit(X_train,Y_train)\n",
    "Y_pred=model.predict(X_test)\n",
    "print(np.sqrt(np.mean(np.power((np.array(Y_test)-np.array(Y_pred)),2))))"
   ]
  },
  {
   "cell_type": "markdown",
   "metadata": {},
   "source": [
    "RMS Relatively low"
   ]
  },
  {
   "cell_type": "code",
   "execution_count": 89,
   "metadata": {},
   "outputs": [
    {
     "name": "stderr",
     "output_type": "stream",
     "text": [
      "C:\\Users\\soumy\\anaconda3\\envs\\AntonioEnv\\lib\\site-packages\\ipykernel_launcher.py:1: SettingWithCopyWarning: \n",
      "A value is trying to be set on a copy of a slice from a DataFrame.\n",
      "Try using .loc[row_indexer,col_indexer] = value instead\n",
      "\n",
      "See the caveats in the documentation: https://pandas.pydata.org/pandas-docs/stable/user_guide/indexing.html#returning-a-view-versus-a-copy\n",
      "  \"\"\"Entry point for launching an IPython kernel.\n",
      "C:\\Users\\soumy\\anaconda3\\envs\\AntonioEnv\\lib\\site-packages\\ipykernel_launcher.py:2: SettingWithCopyWarning: \n",
      "A value is trying to be set on a copy of a slice from a DataFrame.\n",
      "Try using .loc[row_indexer,col_indexer] = value instead\n",
      "\n",
      "See the caveats in the documentation: https://pandas.pydata.org/pandas-docs/stable/user_guide/indexing.html#returning-a-view-versus-a-copy\n",
      "  \n"
     ]
    },
    {
     "data": {
      "text/plain": [
       "[<matplotlib.lines.Line2D at 0x24792c521c8>,\n",
       " <matplotlib.lines.Line2D at 0x24792c52208>]"
      ]
     },
     "execution_count": 89,
     "metadata": {},
     "output_type": "execute_result"
    },
    {
     "data": {
      "image/png": "[encoded data removed]",
      "text/plain": [
       "<Figure size 432x288 with 1 Axes>"
      ]
     },
     "metadata": {
      "needs_background": "light"
     },
     "output_type": "display_data"
    }
   ],
   "source": [
    "test['preds']=0\n",
    "test['preds']=Y_pred\n",
    "train.index=ndf[:1600].index\n",
    "test.index=ndf[1600:].index\n",
    "plt.plot(train['Close'])\n",
    "plt.plot(test[['Close','preds']])"
   ]
  },
  {
   "cell_type": "markdown",
   "metadata": {},
   "source": [
    "# Inference"
   ]
  },
  {
   "cell_type": "markdown",
   "metadata": {},
   "source": [
    "Strainght line model using linear regression doesn't help. The test values show a curvy trend but our prediction follows a constant decreasing trend."
   ]
  },
  {
   "cell_type": "code",
   "execution_count": 90,
   "metadata": {},
   "outputs": [
    {
     "name": "stdout",
     "output_type": "stream",
     "text": [
      "        Date   Close\n",
      "0     737063   213.8\n",
      "1     737062  210.05\n",
      "2     737061   214.6\n",
      "3     737060   219.1\n",
      "4     737059   219.4\n",
      "...      ...     ...\n",
      "1595  734707  115.65\n",
      "1596  734704  118.75\n",
      "1597  734703  121.35\n",
      "1598  734702  119.05\n",
      "1599  734701  116.35\n",
      "\n",
      "[1600 rows x 2 columns]\n"
     ]
    }
   ],
   "source": [
    "print(train)"
   ]
  },
  {
   "cell_type": "code",
   "execution_count": 91,
   "metadata": {},
   "outputs": [],
   "source": [
    "X_train=train.drop('Close',axis=1)\n",
    "Y_train=train['Close']\n",
    "test=ndf[1600:]\n",
    "X_test=test.drop('Close',axis=1)\n",
    "Y_test=test['Close']"
   ]
  },
  {
   "cell_type": "code",
   "execution_count": 92,
   "metadata": {},
   "outputs": [],
   "source": [
    "from sklearn import neighbors\n",
    "from sklearn.model_selection import GridSearchCV\n",
    "from sklearn.preprocessing import MinMaxScaler\n",
    "scaler = MinMaxScaler(feature_range=(0, 1))"
   ]
  },
  {
   "cell_type": "code",
   "execution_count": 93,
   "metadata": {},
   "outputs": [],
   "source": [
    "X_train_scaled=scaler.fit_transform(X_train)\n",
    "X_train=pd.DataFrame(X_train_scaled)\n",
    "X_test_scaled=scaler.fit_transform(X_test)\n",
    "X_test=pd.DataFrame(X_test_scaled)"
   ]
  },
  {
   "cell_type": "code",
   "execution_count": 94,
   "metadata": {},
   "outputs": [],
   "source": [
    "params={'n_neighbors':[2,3,4,5,6,7,8,9]}\n",
    "knn=neighbors.KNeighborsRegressor()\n",
    "model=GridSearchCV(knn,params,cv=5)"
   ]
  },
  {
   "cell_type": "code",
   "execution_count": 95,
   "metadata": {},
   "outputs": [
    {
     "name": "stdout",
     "output_type": "stream",
     "text": [
      "(1600, 1)\n",
      "(500, 1)\n"
     ]
    }
   ],
   "source": [
    "print(X_train.shape)\n",
    "print(X_test.shape)"
   ]
  },
  {
   "cell_type": "code",
   "execution_count": 96,
   "metadata": {},
   "outputs": [
    {
     "name": "stdout",
     "output_type": "stream",
     "text": [
      "75.21043876441487\n"
     ]
    }
   ],
   "source": [
    "model.fit(X_train,Y_train)\n",
    "Y_pred=model.predict(X_test)\n",
    "print(np.sqrt(np.mean(np.power((np.array(Y_test)-np.array(Y_pred)),2))))"
   ]
  },
  {
   "cell_type": "markdown",
   "metadata": {},
   "source": [
    "Higher than Linear Regression"
   ]
  },
  {
   "cell_type": "code",
   "execution_count": 97,
   "metadata": {},
   "outputs": [
    {
     "name": "stderr",
     "output_type": "stream",
     "text": [
      "C:\\Users\\soumy\\anaconda3\\envs\\AntonioEnv\\lib\\site-packages\\ipykernel_launcher.py:1: SettingWithCopyWarning: \n",
      "A value is trying to be set on a copy of a slice from a DataFrame.\n",
      "Try using .loc[row_indexer,col_indexer] = value instead\n",
      "\n",
      "See the caveats in the documentation: https://pandas.pydata.org/pandas-docs/stable/user_guide/indexing.html#returning-a-view-versus-a-copy\n",
      "  \"\"\"Entry point for launching an IPython kernel.\n",
      "C:\\Users\\soumy\\anaconda3\\envs\\AntonioEnv\\lib\\site-packages\\ipykernel_launcher.py:2: SettingWithCopyWarning: \n",
      "A value is trying to be set on a copy of a slice from a DataFrame.\n",
      "Try using .loc[row_indexer,col_indexer] = value instead\n",
      "\n",
      "See the caveats in the documentation: https://pandas.pydata.org/pandas-docs/stable/user_guide/indexing.html#returning-a-view-versus-a-copy\n",
      "  \n"
     ]
    },
    {
     "data": {
      "text/plain": [
       "[<matplotlib.lines.Line2D at 0x24792cca908>,\n",
       " <matplotlib.lines.Line2D at 0x24792cca988>]"
      ]
     },
     "execution_count": 97,
     "metadata": {},
     "output_type": "execute_result"
    },
    {
     "data": {
      "image/png": "[encoded data removed]",
      "text/plain": [
       "<Figure size 432x288 with 1 Axes>"
      ]
     },
     "metadata": {
      "needs_background": "light"
     },
     "output_type": "display_data"
    }
   ],
   "source": [
    "test['preds']=0\n",
    "test['preds']=Y_pred\n",
    "train.index=ndf[:1600].index\n",
    "test.index=ndf[1600:].index\n",
    "plt.plot(train['Close'])\n",
    "plt.plot(test[['Close','preds']])"
   ]
  },
  {
   "cell_type": "markdown",
   "metadata": {},
   "source": [
    "# Inference"
   ]
  },
  {
   "cell_type": "markdown",
   "metadata": {},
   "source": [
    "The predictions are not overlapping over the test values. They have a constant differnce between each other. Hence, this is also no the right model"
   ]
  },
  {
   "cell_type": "code",
   "execution_count": 98,
   "metadata": {},
   "outputs": [],
   "source": [
    "data = df.sort_index(ascending=True, axis=0)\n",
    "ndf=pd.DataFrame(index=range(0,len(df)),columns=['Date','Close'])\n",
    "for i in range(len(data)):\n",
    "    ndf['Date'][i]=data['Date'][i]\n",
    "    ndf['Close'][i]=data['Close'][i]\n",
    "ndf['Date']=pd.to_datetime(ndf['Date'])\n",
    "ndf['Date']=ndf['Date'].map(dt.datetime.toordinal)"
   ]
  },
  {
   "cell_type": "code",
   "execution_count": 99,
   "metadata": {},
   "outputs": [
    {
     "name": "stdout",
     "output_type": "stream",
     "text": [
      "        Date   Close\n",
      "0     737063   213.8\n",
      "1     737062  210.05\n",
      "2     737061   214.6\n",
      "3     737060   219.1\n",
      "4     737059   219.4\n",
      "...      ...     ...\n",
      "2095  733980  118.65\n",
      "2096  733979   117.6\n",
      "2097  733976  120.65\n",
      "2098  733975   120.9\n",
      "2099  733974  121.55\n",
      "\n",
      "[2100 rows x 2 columns]\n"
     ]
    }
   ],
   "source": [
    "print(ndf)"
   ]
  },
  {
   "cell_type": "code",
   "execution_count": 100,
   "metadata": {},
   "outputs": [
    {
     "name": "stdout",
     "output_type": "stream",
     "text": [
      "         Close\n",
      "Date          \n",
      "737063   213.8\n",
      "737062  210.05\n",
      "737061   214.6\n",
      "737060   219.1\n",
      "737059   219.4\n",
      "...        ...\n",
      "733980  118.65\n",
      "733979   117.6\n",
      "733976  120.65\n",
      "733975   120.9\n",
      "733974  121.55\n",
      "\n",
      "[2100 rows x 1 columns]\n"
     ]
    }
   ],
   "source": [
    "ndf.index=ndf.Date\n",
    "ndf.drop('Date',axis=1,inplace=True)\n",
    "print(ndf)"
   ]
  },
  {
   "cell_type": "code",
   "execution_count": 101,
   "metadata": {},
   "outputs": [],
   "source": [
    "ndfv=ndf.values\n",
    "train=ndfv[0:1600,:]\n",
    "test=ndfv[1600:,:]"
   ]
  },
  {
   "cell_type": "code",
   "execution_count": 102,
   "metadata": {},
   "outputs": [
    {
     "name": "stdout",
     "output_type": "stream",
     "text": [
      "[210.05 214.6 219.1 219.4 220.8 220.05 218.55 219.05 215.4 210.2 210.15\n",
      " 210.1 210.05 212.35 212.4 212.95 202.85 198.2 206.55 208.15 211.7 209.5\n",
      " 214.75 218.65 218.75 216.0 217.75 217.65 215.9 219.0 215.95 224.15 221.8\n",
      " 221.45 217.4 219.95 214.7 209.5 215.2 213.8 219.85 217.65 217.75 217.85\n",
      " 227.3 220.0 217.6 222.1 219.8 218.3 223.25 227.2 231.1 235.45 234.9 229.1\n",
      " 224.6 228.4 216.5 215.15]\n"
     ]
    }
   ],
   "source": [
    "print(ndfv[1:61,0])"
   ]
  },
  {
   "cell_type": "code",
   "execution_count": 103,
   "metadata": {},
   "outputs": [],
   "source": [
    "from keras.models import Sequential\n",
    "from keras.layers import Dense, Dropout, LSTM"
   ]
  },
  {
   "cell_type": "code",
   "execution_count": 104,
   "metadata": {},
   "outputs": [],
   "source": [
    "scaler = MinMaxScaler(feature_range=(0, 1))"
   ]
  },
  {
   "cell_type": "code",
   "execution_count": 105,
   "metadata": {},
   "outputs": [
    {
     "name": "stdout",
     "output_type": "stream",
     "text": [
      "(1540, 60, 1)\n"
     ]
    }
   ],
   "source": [
    "sc=scaler.fit_transform(ndfv)\n",
    "x_train,y_train=[],[]\n",
    "for i in range(60,len(train)):\n",
    "    x_train.append(sc[i-60:i,0])\n",
    "    y_train.append(sc[i,0])\n",
    "x_train=np.array(x_train)\n",
    "y_train=np.array(y_train)\n",
    "x_train=np.reshape(x_train,(x_train.shape[0],x_train.shape[1],1))\n",
    "print(x_train.shape)"
   ]
  },
  {
   "cell_type": "code",
   "execution_count": 106,
   "metadata": {},
   "outputs": [
    {
     "name": "stdout",
     "output_type": "stream",
     "text": [
      "Epoch 1/1\n",
      " - 38s - loss: 0.0024\n"
     ]
    },
    {
     "data": {
      "text/plain": [
       "<keras.callbacks.callbacks.History at 0x24792df9e08>"
      ]
     },
     "execution_count": 106,
     "metadata": {},
     "output_type": "execute_result"
    }
   ],
   "source": [
    "model=Sequential()\n",
    "model.add(LSTM(units=50, return_sequences=True, input_shape=(x_train.shape[1],1)))\n",
    "model.add(LSTM(units=50))\n",
    "model.add(Dense(1))\n",
    "model.compile(loss='mean_squared_error', optimizer='adam')\n",
    "model.fit(x_train, y_train, epochs=1, batch_size=1, verbose=2)"
   ]
  },
  {
   "cell_type": "code",
   "execution_count": 107,
   "metadata": {},
   "outputs": [],
   "source": [
    "inp=ndf[len(ndf)-len(test)-60:].values\n",
    "inp=inp.reshape(-1,1)\n",
    "inp=scaler.transform(inp)"
   ]
  },
  {
   "cell_type": "code",
   "execution_count": 108,
   "metadata": {},
   "outputs": [
    {
     "name": "stdout",
     "output_type": "stream",
     "text": [
      "(500, 60, 1)\n"
     ]
    }
   ],
   "source": [
    "x_test=[]\n",
    "for i in range(60,inp.shape[0]):\n",
    "    x_test.append(inp[i-60:i,0])\n",
    "x_test=np.array(x_test)\n",
    "x_test=np.reshape(x_test,(x_test.shape[0],x_test.shape[1],1))\n",
    "print(x_test.shape)"
   ]
  },
  {
   "cell_type": "code",
   "execution_count": 109,
   "metadata": {},
   "outputs": [],
   "source": [
    "pred=model.predict(x_test)\n",
    "pred=scaler.inverse_transform(pred)\n"
   ]
  },
  {
   "cell_type": "code",
   "execution_count": 110,
   "metadata": {},
   "outputs": [
    {
     "name": "stdout",
     "output_type": "stream",
     "text": [
      "4.142110732443462\n"
     ]
    }
   ],
   "source": [
    "print(np.sqrt(np.mean(np.power((test-pred),2))))"
   ]
  },
  {
   "cell_type": "markdown",
   "metadata": {},
   "source": [
    "The lowest RMS till now."
   ]
  },
  {
   "cell_type": "code",
   "execution_count": 111,
   "metadata": {},
   "outputs": [
    {
     "name": "stderr",
     "output_type": "stream",
     "text": [
      "C:\\Users\\soumy\\anaconda3\\envs\\AntonioEnv\\lib\\site-packages\\ipykernel_launcher.py:3: SettingWithCopyWarning: \n",
      "A value is trying to be set on a copy of a slice from a DataFrame.\n",
      "Try using .loc[row_indexer,col_indexer] = value instead\n",
      "\n",
      "See the caveats in the documentation: https://pandas.pydata.org/pandas-docs/stable/user_guide/indexing.html#returning-a-view-versus-a-copy\n",
      "  This is separate from the ipykernel package so we can avoid doing imports until\n"
     ]
    },
    {
     "data": {
      "text/plain": [
       "[<matplotlib.lines.Line2D at 0x24795a62348>,\n",
       " <matplotlib.lines.Line2D at 0x24795a62388>]"
      ]
     },
     "execution_count": 111,
     "metadata": {},
     "output_type": "execute_result"
    },
    {
     "data": {
      "image/png": "[encoded data removed]",
      "text/plain": [
       "<Figure size 432x288 with 1 Axes>"
      ]
     },
     "metadata": {
      "needs_background": "light"
     },
     "output_type": "display_data"
    }
   ],
   "source": [
    "train=ndf[:1600]\n",
    "test=ndf[1600:]\n",
    "test['preds']=pred\n",
    "plt.plot(train['Close'])\n",
    "plt.plot(test[['Close','preds']])"
   ]
  },
  {
   "cell_type": "markdown",
   "metadata": {},
   "source": [
    "# Inference"
   ]
  },
  {
   "cell_type": "markdown",
   "metadata": {},
   "source": [
    "The test values and the predictions perfectly overlap each other. Hence, this is the best possible model to predict the futute stock prices."
   ]
  },
  {
   "cell_type": "code",
   "execution_count": null,
   "metadata": {},
   "outputs": [],
   "source": []
  },
  {
   "cell_type": "code",
   "execution_count": null,
   "metadata": {},
   "outputs": [],
   "source": []
  }
 ],
 "metadata": {
  "kernelspec": {
   "display_name": "Python [conda env:AntonioEnv] *",
   "language": "python",
   "name": "conda-env-AntonioEnv-py"
  },
  "language_info": {
   "codemirror_mode": {
    "name": "ipython",
    "version": 3
   },
   "file_extension": ".py",
   "mimetype": "text/x-python",
   "name": "python",
   "nbconvert_exporter": "python",
   "pygments_lexer": "ipython3",
   "version": "3.7.9"
  }
 },
 "nbformat": 4,
 "nbformat_minor": 4
}
