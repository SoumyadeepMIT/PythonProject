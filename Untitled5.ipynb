{
 "cells": [
  {
   "cell_type": "markdown",
   "metadata": {},
   "source": [
    "# Stock Market Predictor"
   ]
  },
  {
   "cell_type": "markdown",
   "metadata": {},
   "source": [
    "Company- Tata Global"
   ]
  },
  {
   "cell_type": "code",
   "execution_count": 1,
   "metadata": {},
   "outputs": [],
   "source": [
    "import numpy as np\n",
    "import pandas as pd"
   ]
  },
  {
   "cell_type": "code",
   "execution_count": 2,
   "metadata": {},
   "outputs": [],
   "source": [
    "df=pd.read_csv('C:/Users/soumy/Downloads/NSE-TATAGLOBAL.csv')"
   ]
  },
  {
   "cell_type": "code",
   "execution_count": 3,
   "metadata": {},
   "outputs": [
    {
     "data": {
      "text/html": [
       "<div>\n",
       "<style scoped>\n",
       "    .dataframe tbody tr th:only-of-type {\n",
       "        vertical-align: middle;\n",
       "    }\n",
       "\n",
       "    .dataframe tbody tr th {\n",
       "        vertical-align: top;\n",
       "    }\n",
       "\n",
       "    .dataframe thead th {\n",
       "        text-align: right;\n",
       "    }\n",
       "</style>\n",
       "<table border=\"1\" class=\"dataframe\">\n",
       "  <thead>\n",
       "    <tr style=\"text-align: right;\">\n",
       "      <th></th>\n",
       "      <th>Date</th>\n",
       "      <th>Open</th>\n",
       "      <th>High</th>\n",
       "      <th>Low</th>\n",
       "      <th>Last</th>\n",
       "      <th>Close</th>\n",
       "      <th>Total Trade Quantity</th>\n",
       "      <th>Turnover (Lacs)</th>\n",
       "    </tr>\n",
       "  </thead>\n",
       "  <tbody>\n",
       "    <tr>\n",
       "      <th>0</th>\n",
       "      <td>2019-01-04</td>\n",
       "      <td>210.60</td>\n",
       "      <td>214.90</td>\n",
       "      <td>210.00</td>\n",
       "      <td>213.50</td>\n",
       "      <td>213.80</td>\n",
       "      <td>1213181.0</td>\n",
       "      <td>2583.05</td>\n",
       "    </tr>\n",
       "    <tr>\n",
       "      <th>1</th>\n",
       "      <td>2019-01-03</td>\n",
       "      <td>214.95</td>\n",
       "      <td>215.35</td>\n",
       "      <td>209.90</td>\n",
       "      <td>210.55</td>\n",
       "      <td>210.05</td>\n",
       "      <td>2096553.0</td>\n",
       "      <td>4433.50</td>\n",
       "    </tr>\n",
       "    <tr>\n",
       "      <th>2</th>\n",
       "      <td>2019-01-02</td>\n",
       "      <td>219.00</td>\n",
       "      <td>220.35</td>\n",
       "      <td>213.60</td>\n",
       "      <td>214.20</td>\n",
       "      <td>214.60</td>\n",
       "      <td>1081778.0</td>\n",
       "      <td>2340.31</td>\n",
       "    </tr>\n",
       "    <tr>\n",
       "      <th>3</th>\n",
       "      <td>2019-01-01</td>\n",
       "      <td>219.95</td>\n",
       "      <td>221.05</td>\n",
       "      <td>218.05</td>\n",
       "      <td>218.95</td>\n",
       "      <td>219.10</td>\n",
       "      <td>716275.0</td>\n",
       "      <td>1571.63</td>\n",
       "    </tr>\n",
       "    <tr>\n",
       "      <th>4</th>\n",
       "      <td>2018-12-31</td>\n",
       "      <td>222.00</td>\n",
       "      <td>223.65</td>\n",
       "      <td>218.85</td>\n",
       "      <td>219.55</td>\n",
       "      <td>219.40</td>\n",
       "      <td>965858.0</td>\n",
       "      <td>2131.09</td>\n",
       "    </tr>\n",
       "    <tr>\n",
       "      <th>...</th>\n",
       "      <td>...</td>\n",
       "      <td>...</td>\n",
       "      <td>...</td>\n",
       "      <td>...</td>\n",
       "      <td>...</td>\n",
       "      <td>...</td>\n",
       "      <td>...</td>\n",
       "      <td>...</td>\n",
       "    </tr>\n",
       "    <tr>\n",
       "      <th>2095</th>\n",
       "      <td>2010-07-27</td>\n",
       "      <td>117.60</td>\n",
       "      <td>119.50</td>\n",
       "      <td>112.00</td>\n",
       "      <td>118.80</td>\n",
       "      <td>118.65</td>\n",
       "      <td>586100.0</td>\n",
       "      <td>694.98</td>\n",
       "    </tr>\n",
       "    <tr>\n",
       "      <th>2096</th>\n",
       "      <td>2010-07-26</td>\n",
       "      <td>120.10</td>\n",
       "      <td>121.00</td>\n",
       "      <td>117.10</td>\n",
       "      <td>117.10</td>\n",
       "      <td>117.60</td>\n",
       "      <td>658440.0</td>\n",
       "      <td>780.01</td>\n",
       "    </tr>\n",
       "    <tr>\n",
       "      <th>2097</th>\n",
       "      <td>2010-07-23</td>\n",
       "      <td>121.80</td>\n",
       "      <td>121.95</td>\n",
       "      <td>120.25</td>\n",
       "      <td>120.35</td>\n",
       "      <td>120.65</td>\n",
       "      <td>281312.0</td>\n",
       "      <td>340.31</td>\n",
       "    </tr>\n",
       "    <tr>\n",
       "      <th>2098</th>\n",
       "      <td>2010-07-22</td>\n",
       "      <td>120.30</td>\n",
       "      <td>122.00</td>\n",
       "      <td>120.25</td>\n",
       "      <td>120.75</td>\n",
       "      <td>120.90</td>\n",
       "      <td>293312.0</td>\n",
       "      <td>355.17</td>\n",
       "    </tr>\n",
       "    <tr>\n",
       "      <th>2099</th>\n",
       "      <td>2010-07-21</td>\n",
       "      <td>122.10</td>\n",
       "      <td>123.00</td>\n",
       "      <td>121.05</td>\n",
       "      <td>121.10</td>\n",
       "      <td>121.55</td>\n",
       "      <td>658666.0</td>\n",
       "      <td>803.56</td>\n",
       "    </tr>\n",
       "  </tbody>\n",
       "</table>\n",
       "<p>2100 rows × 8 columns</p>\n",
       "</div>"
      ],
      "text/plain": [
       "            Date    Open    High     Low    Last   Close  \\\n",
       "0     2019-01-04  210.60  214.90  210.00  213.50  213.80   \n",
       "1     2019-01-03  214.95  215.35  209.90  210.55  210.05   \n",
       "2     2019-01-02  219.00  220.35  213.60  214.20  214.60   \n",
       "3     2019-01-01  219.95  221.05  218.05  218.95  219.10   \n",
       "4     2018-12-31  222.00  223.65  218.85  219.55  219.40   \n",
       "...          ...     ...     ...     ...     ...     ...   \n",
       "2095  2010-07-27  117.60  119.50  112.00  118.80  118.65   \n",
       "2096  2010-07-26  120.10  121.00  117.10  117.10  117.60   \n",
       "2097  2010-07-23  121.80  121.95  120.25  120.35  120.65   \n",
       "2098  2010-07-22  120.30  122.00  120.25  120.75  120.90   \n",
       "2099  2010-07-21  122.10  123.00  121.05  121.10  121.55   \n",
       "\n",
       "      Total Trade Quantity  Turnover (Lacs)  \n",
       "0                1213181.0          2583.05  \n",
       "1                2096553.0          4433.50  \n",
       "2                1081778.0          2340.31  \n",
       "3                 716275.0          1571.63  \n",
       "4                 965858.0          2131.09  \n",
       "...                    ...              ...  \n",
       "2095              586100.0           694.98  \n",
       "2096              658440.0           780.01  \n",
       "2097              281312.0           340.31  \n",
       "2098              293312.0           355.17  \n",
       "2099              658666.0           803.56  \n",
       "\n",
       "[2100 rows x 8 columns]"
      ]
     },
     "execution_count": 3,
     "metadata": {},
     "output_type": "execute_result"
    }
   ],
   "source": [
    "df"
   ]
  },
  {
   "cell_type": "code",
   "execution_count": 4,
   "metadata": {},
   "outputs": [
    {
     "data": {
      "text/html": [
       "<div>\n",
       "<style scoped>\n",
       "    .dataframe tbody tr th:only-of-type {\n",
       "        vertical-align: middle;\n",
       "    }\n",
       "\n",
       "    .dataframe tbody tr th {\n",
       "        vertical-align: top;\n",
       "    }\n",
       "\n",
       "    .dataframe thead th {\n",
       "        text-align: right;\n",
       "    }\n",
       "</style>\n",
       "<table border=\"1\" class=\"dataframe\">\n",
       "  <thead>\n",
       "    <tr style=\"text-align: right;\">\n",
       "      <th></th>\n",
       "      <th>Date</th>\n",
       "      <th>Close</th>\n",
       "    </tr>\n",
       "  </thead>\n",
       "  <tbody>\n",
       "    <tr>\n",
       "      <th>0</th>\n",
       "      <td>2019-01-04</td>\n",
       "      <td>213.8</td>\n",
       "    </tr>\n",
       "    <tr>\n",
       "      <th>1</th>\n",
       "      <td>2019-01-03</td>\n",
       "      <td>210.05</td>\n",
       "    </tr>\n",
       "    <tr>\n",
       "      <th>2</th>\n",
       "      <td>2019-01-02</td>\n",
       "      <td>214.6</td>\n",
       "    </tr>\n",
       "    <tr>\n",
       "      <th>3</th>\n",
       "      <td>2019-01-01</td>\n",
       "      <td>219.1</td>\n",
       "    </tr>\n",
       "    <tr>\n",
       "      <th>4</th>\n",
       "      <td>2018-12-31</td>\n",
       "      <td>219.4</td>\n",
       "    </tr>\n",
       "  </tbody>\n",
       "</table>\n",
       "</div>"
      ],
      "text/plain": [
       "         Date   Close\n",
       "0  2019-01-04   213.8\n",
       "1  2019-01-03  210.05\n",
       "2  2019-01-02   214.6\n",
       "3  2019-01-01   219.1\n",
       "4  2018-12-31   219.4"
      ]
     },
     "execution_count": 4,
     "metadata": {},
     "output_type": "execute_result"
    }
   ],
   "source": [
    "data = df.sort_index(ascending=True, axis=0)\n",
    "ndf=pd.DataFrame(index=range(0,len(df)),columns=['Date','Close'])\n",
    "for i in range(len(data)):\n",
    "    ndf['Date'][i]=data['Date'][i]\n",
    "    ndf['Close'][i]=data['Close'][i]\n",
    "ndf.head()"
   ]
  },
  {
   "cell_type": "code",
   "execution_count": 5,
   "metadata": {},
   "outputs": [
    {
     "name": "stdout",
     "output_type": "stream",
     "text": [
      "0      2019-01-04\n",
      "1      2019-01-03\n",
      "2      2019-01-02\n",
      "3      2019-01-01\n",
      "4      2018-12-31\n",
      "          ...    \n",
      "2095   2010-07-27\n",
      "2096   2010-07-26\n",
      "2097   2010-07-23\n",
      "2098   2010-07-22\n",
      "2099   2010-07-21\n",
      "Name: Date, Length: 2100, dtype: datetime64[ns]\n"
     ]
    }
   ],
   "source": [
    "ndf['Date']=pd.to_datetime(ndf['Date'])\n",
    "print(ndf['Date'])"
   ]
  },
  {
   "cell_type": "code",
   "execution_count": 6,
   "metadata": {},
   "outputs": [
    {
     "name": "stdout",
     "output_type": "stream",
     "text": [
      "<class 'pandas.core.series.Series'>\n"
     ]
    }
   ],
   "source": [
    "print(type(ndf['Date']))"
   ]
  },
  {
   "cell_type": "code",
   "execution_count": 7,
   "metadata": {},
   "outputs": [
    {
     "name": "stdout",
     "output_type": "stream",
     "text": [
      "(2100, 2)\n"
     ]
    }
   ],
   "source": [
    "print(ndf.shape)"
   ]
  },
  {
   "cell_type": "code",
   "execution_count": 8,
   "metadata": {},
   "outputs": [
    {
     "name": "stdout",
     "output_type": "stream",
     "text": [
      "0       737063\n",
      "1       737062\n",
      "2       737061\n",
      "3       737060\n",
      "4       737059\n",
      "         ...  \n",
      "2095    733980\n",
      "2096    733979\n",
      "2097    733976\n",
      "2098    733975\n",
      "2099    733974\n",
      "Name: Date, Length: 2100, dtype: int64\n"
     ]
    }
   ],
   "source": [
    "import datetime as dt\n",
    "ndf['Date']=ndf['Date'].map(dt.datetime.toordinal)\n",
    "print(ndf['Date'])"
   ]
  },
  {
   "cell_type": "code",
   "execution_count": 9,
   "metadata": {},
   "outputs": [],
   "source": [
    "train=ndf[:1600]\n",
    "test=ndf[1600:]\n",
    "X_train=train.drop('Close',axis=1)\n",
    "Y_train=train['Close']\n",
    "X_test=test.drop('Close',axis=1)\n",
    "Y_test=test['Close']"
   ]
  },
  {
   "cell_type": "code",
   "execution_count": 10,
   "metadata": {},
   "outputs": [],
   "source": [
    "import matplotlib.pyplot as plt\n",
    "\n",
    "from sklearn import datasets\n",
    "\n",
    "from sklearn import linear_model"
   ]
  },
  {
   "cell_type": "code",
   "execution_count": 11,
   "metadata": {},
   "outputs": [
    {
     "name": "stdout",
     "output_type": "stream",
     "text": [
      "17.545025808245754\n"
     ]
    }
   ],
   "source": [
    "model=linear_model.LinearRegression()\n",
    "model.fit(X_train,Y_train)\n",
    "Y_pred=model.predict(X_test)\n",
    "print(np.sqrt(np.mean(np.power((np.array(Y_test)-np.array(Y_pred)),2))))"
   ]
  },
  {
   "cell_type": "markdown",
   "metadata": {},
   "source": [
    "RMS Relatively low"
   ]
  },
  {
   "cell_type": "code",
   "execution_count": 12,
   "metadata": {},
   "outputs": [
    {
     "name": "stderr",
     "output_type": "stream",
     "text": [
      "C:\\Users\\soumy\\anaconda3\\envs\\AntonioEnv\\lib\\site-packages\\ipykernel_launcher.py:1: SettingWithCopyWarning: \n",
      "A value is trying to be set on a copy of a slice from a DataFrame.\n",
      "Try using .loc[row_indexer,col_indexer] = value instead\n",
      "\n",
      "See the caveats in the documentation: https://pandas.pydata.org/pandas-docs/stable/user_guide/indexing.html#returning-a-view-versus-a-copy\n",
      "  \"\"\"Entry point for launching an IPython kernel.\n",
      "C:\\Users\\soumy\\anaconda3\\envs\\AntonioEnv\\lib\\site-packages\\ipykernel_launcher.py:2: SettingWithCopyWarning: \n",
      "A value is trying to be set on a copy of a slice from a DataFrame.\n",
      "Try using .loc[row_indexer,col_indexer] = value instead\n",
      "\n",
      "See the caveats in the documentation: https://pandas.pydata.org/pandas-docs/stable/user_guide/indexing.html#returning-a-view-versus-a-copy\n",
      "  \n"
     ]
    },
    {
     "data": {
      "text/plain": [
       "[<matplotlib.lines.Line2D at 0x1f5fe78cac8>,\n",
       " <matplotlib.lines.Line2D at 0x1f5fe78cb88>]"
      ]
     },
     "execution_count": 12,
     "metadata": {},
     "output_type": "execute_result"
    },
    {
     "data": {
      "image/png": "[encoded data removed]",
      "text/plain": [
       "<Figure size 432x288 with 1 Axes>"
      ]
     },
     "metadata": {
      "needs_background": "light"
     },
     "output_type": "display_data"
    }
   ],
   "source": [
    "test['preds']=0\n",
    "test['preds']=Y_pred\n",
    "train.index=ndf[:1600].index\n",
    "test.index=ndf[1600:].index\n",
    "plt.plot(train['Close'])\n",
    "plt.plot(test[['Close','preds']])"
   ]
  },
  {
   "cell_type": "markdown",
   "metadata": {},
   "source": [
    "# Inference"
   ]
  },
  {
   "cell_type": "markdown",
   "metadata": {},
   "source": [
    "Strainght line model using linear regression doesn't help. The test values show a curvy trend but our prediction follows a constant decreasing trend."
   ]
  },
  {
   "cell_type": "code",
   "execution_count": 13,
   "metadata": {},
   "outputs": [
    {
     "name": "stdout",
     "output_type": "stream",
     "text": [
      "        Date   Close\n",
      "0     737063   213.8\n",
      "1     737062  210.05\n",
      "2     737061   214.6\n",
      "3     737060   219.1\n",
      "4     737059   219.4\n",
      "...      ...     ...\n",
      "1595  734707  115.65\n",
      "1596  734704  118.75\n",
      "1597  734703  121.35\n",
      "1598  734702  119.05\n",
      "1599  734701  116.35\n",
      "\n",
      "[1600 rows x 2 columns]\n"
     ]
    }
   ],
   "source": [
    "print(train)"
   ]
  },
  {
   "cell_type": "code",
   "execution_count": 14,
   "metadata": {},
   "outputs": [],
   "source": [
    "X_train=train.drop('Close',axis=1)\n",
    "Y_train=train['Close']\n",
    "test=ndf[1600:]\n",
    "X_test=test.drop('Close',axis=1)\n",
    "Y_test=test['Close']"
   ]
  },
  {
   "cell_type": "code",
   "execution_count": 15,
   "metadata": {},
   "outputs": [],
   "source": [
    "from sklearn import neighbors\n",
    "from sklearn.model_selection import GridSearchCV\n",
    "from sklearn.preprocessing import MinMaxScaler\n",
    "scaler = MinMaxScaler(feature_range=(0, 1))"
   ]
  },
  {
   "cell_type": "code",
   "execution_count": 16,
   "metadata": {},
   "outputs": [],
   "source": [
    "X_train_scaled=scaler.fit_transform(X_train)\n",
    "X_train=pd.DataFrame(X_train_scaled)\n",
    "X_test_scaled=scaler.fit_transform(X_test)\n",
    "X_test=pd.DataFrame(X_test_scaled)"
   ]
  },
  {
   "cell_type": "code",
   "execution_count": 17,
   "metadata": {},
   "outputs": [],
   "source": [
    "params={'n_neighbors':[2,3,4,5,6,7,8,9]}\n",
    "knn=neighbors.KNeighborsRegressor()\n",
    "model=GridSearchCV(knn,params,cv=5)"
   ]
  },
  {
   "cell_type": "code",
   "execution_count": 18,
   "metadata": {},
   "outputs": [
    {
     "name": "stdout",
     "output_type": "stream",
     "text": [
      "(1600, 1)\n",
      "(500, 1)\n"
     ]
    }
   ],
   "source": [
    "print(X_train.shape)\n",
    "print(X_test.shape)"
   ]
  },
  {
   "cell_type": "code",
   "execution_count": 19,
   "metadata": {},
   "outputs": [
    {
     "name": "stdout",
     "output_type": "stream",
     "text": [
      "75.21043876441487\n"
     ]
    }
   ],
   "source": [
    "model.fit(X_train,Y_train)\n",
    "Y_pred=model.predict(X_test)\n",
    "print(np.sqrt(np.mean(np.power((np.array(Y_test)-np.array(Y_pred)),2))))"
   ]
  },
  {
   "cell_type": "markdown",
   "metadata": {},
   "source": [
    "Higher than Linear Regression"
   ]
  },
  {
   "cell_type": "code",
   "execution_count": 20,
   "metadata": {},
   "outputs": [
    {
     "name": "stderr",
     "output_type": "stream",
     "text": [
      "C:\\Users\\soumy\\anaconda3\\envs\\AntonioEnv\\lib\\site-packages\\ipykernel_launcher.py:1: SettingWithCopyWarning: \n",
      "A value is trying to be set on a copy of a slice from a DataFrame.\n",
      "Try using .loc[row_indexer,col_indexer] = value instead\n",
      "\n",
      "See the caveats in the documentation: https://pandas.pydata.org/pandas-docs/stable/user_guide/indexing.html#returning-a-view-versus-a-copy\n",
      "  \"\"\"Entry point for launching an IPython kernel.\n",
      "C:\\Users\\soumy\\anaconda3\\envs\\AntonioEnv\\lib\\site-packages\\ipykernel_launcher.py:2: SettingWithCopyWarning: \n",
      "A value is trying to be set on a copy of a slice from a DataFrame.\n",
      "Try using .loc[row_indexer,col_indexer] = value instead\n",
      "\n",
      "See the caveats in the documentation: https://pandas.pydata.org/pandas-docs/stable/user_guide/indexing.html#returning-a-view-versus-a-copy\n",
      "  \n"
     ]
    },
    {
     "data": {
      "text/plain": [
       "[<matplotlib.lines.Line2D at 0x1f5fe9add88>,\n",
       " <matplotlib.lines.Line2D at 0x1f5fe9ade08>]"
      ]
     },
     "execution_count": 20,
     "metadata": {},
     "output_type": "execute_result"
    },
    {
     "data": {
      "image/png": "[encoded data removed]",
      "text/plain": [
       "<Figure size 432x288 with 1 Axes>"
      ]
     },
     "metadata": {
      "needs_background": "light"
     },
     "output_type": "display_data"
    }
   ],
   "source": [
    "test['preds']=0\n",
    "test['preds']=Y_pred\n",
    "train.index=ndf[:1600].index\n",
    "test.index=ndf[1600:].index\n",
    "plt.plot(train['Close'])\n",
    "plt.plot(test[['Close','preds']])"
   ]
  },
  {
   "cell_type": "markdown",
   "metadata": {},
   "source": [
    "# Inference"
   ]
  },
  {
   "cell_type": "markdown",
   "metadata": {},
   "source": [
    "The predictions are not overlapping over the test values. They have a constant differnce between each other. Hence, this is also no the right model"
   ]
  },
  {
   "cell_type": "code",
   "execution_count": 21,
   "metadata": {},
   "outputs": [],
   "source": [
    "data = df.sort_index(ascending=True, axis=0)\n",
    "ndf=pd.DataFrame(index=range(0,len(df)),columns=['Date','Close'])\n",
    "for i in range(len(data)):\n",
    "    ndf['Date'][i]=data['Date'][i]\n",
    "    ndf['Close'][i]=data['Close'][i]\n",
    "ndf['Date']=pd.to_datetime(ndf['Date'])\n",
    "ndf['Date']=ndf['Date'].map(dt.datetime.toordinal)"
   ]
  },
  {
   "cell_type": "code",
   "execution_count": 22,
   "metadata": {},
   "outputs": [
    {
     "name": "stdout",
     "output_type": "stream",
     "text": [
      "        Date   Close\n",
      "0     737063   213.8\n",
      "1     737062  210.05\n",
      "2     737061   214.6\n",
      "3     737060   219.1\n",
      "4     737059   219.4\n",
      "...      ...     ...\n",
      "2095  733980  118.65\n",
      "2096  733979   117.6\n",
      "2097  733976  120.65\n",
      "2098  733975   120.9\n",
      "2099  733974  121.55\n",
      "\n",
      "[2100 rows x 2 columns]\n"
     ]
    }
   ],
   "source": [
    "print(ndf)"
   ]
  },
  {
   "cell_type": "code",
   "execution_count": 23,
   "metadata": {},
   "outputs": [
    {
     "name": "stdout",
     "output_type": "stream",
     "text": [
      "         Close\n",
      "Date          \n",
      "737063   213.8\n",
      "737062  210.05\n",
      "737061   214.6\n",
      "737060   219.1\n",
      "737059   219.4\n",
      "...        ...\n",
      "733980  118.65\n",
      "733979   117.6\n",
      "733976  120.65\n",
      "733975   120.9\n",
      "733974  121.55\n",
      "\n",
      "[2100 rows x 1 columns]\n"
     ]
    }
   ],
   "source": [
    "ndf.index=ndf.Date\n",
    "ndf.drop('Date',axis=1,inplace=True)\n",
    "print(ndf)"
   ]
  },
  {
   "cell_type": "code",
   "execution_count": 24,
   "metadata": {},
   "outputs": [],
   "source": [
    "ndf=ndf.sort_index(ascending=True, axis=0)"
   ]
  },
  {
   "cell_type": "code",
   "execution_count": 25,
   "metadata": {},
   "outputs": [
    {
     "name": "stdout",
     "output_type": "stream",
     "text": [
      "         Close\n",
      "Date          \n",
      "733974  121.55\n",
      "733975   120.9\n",
      "733976  120.65\n",
      "733979   117.6\n",
      "733980  118.65\n",
      "...        ...\n",
      "737059   219.4\n",
      "737060   219.1\n",
      "737061   214.6\n",
      "737062  210.05\n",
      "737063   213.8\n",
      "\n",
      "[2100 rows x 1 columns]\n"
     ]
    }
   ],
   "source": [
    "print(ndf)"
   ]
  },
  {
   "cell_type": "code",
   "execution_count": 26,
   "metadata": {},
   "outputs": [],
   "source": [
    "ndfv=ndf.values\n",
    "train=ndfv[0:1600,:]\n",
    "test=ndfv[1600:,:]"
   ]
  },
  {
   "cell_type": "code",
   "execution_count": 27,
   "metadata": {},
   "outputs": [
    {
     "name": "stdout",
     "output_type": "stream",
     "text": [
      "[120.9 120.65 117.6 118.65 118.25 116.6 116.05 117.3 118.3 116.5 114.05\n",
      " 112.1 112.85 112.3 113.9 112.55 114.15 111.25 110.1 108.85 113.05 111.5\n",
      " 116.7 116.45 117.0 118.15 117.75 117.6 120.5 123.0 122.4 122.15 123.15\n",
      " 127.7 127.25 127.8 125.95 123.9 123.25 122.15 122.65 124.55 122.5 120.8\n",
      " 123.55 125.1 123.6 122.85 121.5 120.2 123.5 124.65 127.0 129.3 133.4\n",
      " 132.6 134.25 131.0 133.75 133.05]\n"
     ]
    }
   ],
   "source": [
    "print(ndfv[1:61,0])"
   ]
  },
  {
   "cell_type": "code",
   "execution_count": 28,
   "metadata": {},
   "outputs": [
    {
     "name": "stderr",
     "output_type": "stream",
     "text": [
      "Using TensorFlow backend.\n"
     ]
    }
   ],
   "source": [
    "from keras.models import Sequential\n",
    "from keras.layers import Dense, Dropout, LSTM"
   ]
  },
  {
   "cell_type": "code",
   "execution_count": 29,
   "metadata": {},
   "outputs": [],
   "source": [
    "scaler = MinMaxScaler(feature_range=(0, 1))"
   ]
  },
  {
   "cell_type": "code",
   "execution_count": 30,
   "metadata": {},
   "outputs": [
    {
     "name": "stdout",
     "output_type": "stream",
     "text": [
      "(1540, 60, 1)\n"
     ]
    }
   ],
   "source": [
    "sc=scaler.fit_transform(ndfv)\n",
    "x_train,y_train=[],[]\n",
    "for i in range(60,len(train)):\n",
    "    x_train.append(sc[i-60:i,0])\n",
    "    y_train.append(sc[i,0])\n",
    "x_train=np.array(x_train)\n",
    "y_train=np.array(y_train)\n",
    "x_train=np.reshape(x_train,(x_train.shape[0],x_train.shape[1],1))\n",
    "print(x_train.shape)"
   ]
  },
  {
   "cell_type": "code",
   "execution_count": 31,
   "metadata": {},
   "outputs": [
    {
     "name": "stdout",
     "output_type": "stream",
     "text": [
      "Epoch 1/1\n",
      " - 36s - loss: 7.9154e-04\n"
     ]
    },
    {
     "data": {
      "text/plain": [
       "<keras.callbacks.callbacks.History at 0x1f585cfdc08>"
      ]
     },
     "execution_count": 31,
     "metadata": {},
     "output_type": "execute_result"
    }
   ],
   "source": [
    "model=Sequential()\n",
    "model.add(LSTM(units=50, return_sequences=True, input_shape=(x_train.shape[1],1)))\n",
    "model.add(LSTM(units=50))\n",
    "model.add(Dense(1))\n",
    "model.compile(loss='mean_squared_error', optimizer='adam')\n",
    "model.fit(x_train, y_train, epochs=1, batch_size=1, verbose=2)"
   ]
  },
  {
   "cell_type": "code",
   "execution_count": 32,
   "metadata": {},
   "outputs": [],
   "source": [
    "inp=ndf[len(ndf)-len(test)-60:].values\n",
    "inp=inp.reshape(-1,1)\n",
    "inp=scaler.transform(inp)"
   ]
  },
  {
   "cell_type": "code",
   "execution_count": 33,
   "metadata": {},
   "outputs": [
    {
     "name": "stdout",
     "output_type": "stream",
     "text": [
      "(500, 60, 1)\n"
     ]
    }
   ],
   "source": [
    "x_test=[]\n",
    "for i in range(60,inp.shape[0]):\n",
    "    x_test.append(inp[i-60:i,0])\n",
    "x_test=np.array(x_test)\n",
    "x_test=np.reshape(x_test,(x_test.shape[0],x_test.shape[1],1))\n",
    "print(x_test.shape)"
   ]
  },
  {
   "cell_type": "code",
   "execution_count": 34,
   "metadata": {},
   "outputs": [],
   "source": [
    "pred=model.predict(x_test)\n",
    "pred=scaler.inverse_transform(pred)\n"
   ]
  },
  {
   "cell_type": "code",
   "execution_count": 35,
   "metadata": {},
   "outputs": [
    {
     "name": "stdout",
     "output_type": "stream",
     "text": [
      "10.2295758671511\n"
     ]
    }
   ],
   "source": [
    "print(np.sqrt(np.mean(np.power((test-pred),2))))"
   ]
  },
  {
   "cell_type": "markdown",
   "metadata": {},
   "source": [
    "The lowest RMS till now."
   ]
  },
  {
   "cell_type": "code",
   "execution_count": 36,
   "metadata": {},
   "outputs": [
    {
     "name": "stderr",
     "output_type": "stream",
     "text": [
      "C:\\Users\\soumy\\anaconda3\\envs\\AntonioEnv\\lib\\site-packages\\ipykernel_launcher.py:3: SettingWithCopyWarning: \n",
      "A value is trying to be set on a copy of a slice from a DataFrame.\n",
      "Try using .loc[row_indexer,col_indexer] = value instead\n",
      "\n",
      "See the caveats in the documentation: https://pandas.pydata.org/pandas-docs/stable/user_guide/indexing.html#returning-a-view-versus-a-copy\n",
      "  This is separate from the ipykernel package so we can avoid doing imports until\n"
     ]
    },
    {
     "data": {
      "text/plain": [
       "[<matplotlib.lines.Line2D at 0x1f58994edc8>,\n",
       " <matplotlib.lines.Line2D at 0x1f58994ee88>]"
      ]
     },
     "execution_count": 36,
     "metadata": {},
     "output_type": "execute_result"
    },
    {
     "data": {
      "image/png": "[encoded data removed]",
      "text/plain": [
       "<Figure size 432x288 with 1 Axes>"
      ]
     },
     "metadata": {
      "needs_background": "light"
     },
     "output_type": "display_data"
    }
   ],
   "source": [
    "train=ndf[:1600]\n",
    "test=ndf[1600:]\n",
    "test['preds']=pred\n",
    "plt.plot(train['Close'])\n",
    "plt.plot(test[['Close','preds']])"
   ]
  },
  {
   "cell_type": "code",
   "execution_count": 37,
   "metadata": {},
   "outputs": [
    {
     "name": "stdout",
     "output_type": "stream",
     "text": [
      "[211.71289]\n",
      "Date\n",
      "736327     121.1\n",
      "736328       122\n",
      "736331    123.55\n",
      "736332    124.45\n",
      "736333    124.45\n",
      "           ...  \n",
      "737059     219.4\n",
      "737060     219.1\n",
      "737061     214.6\n",
      "737062    210.05\n",
      "737063     213.8\n",
      "Name: Close, Length: 500, dtype: object\n",
      "Date\n",
      "733974    121.55\n",
      "733975     120.9\n",
      "733976    120.65\n",
      "733979     117.6\n",
      "733980    118.65\n",
      "           ...  \n",
      "736320     119.4\n",
      "736321    118.85\n",
      "736324       117\n",
      "736325    120.55\n",
      "736326     119.6\n",
      "Name: Close, Length: 1600, dtype: object\n"
     ]
    }
   ],
   "source": [
    "print(pred[len(pred)-1])\n",
    "print(test['Close'])\n",
    "print(train['Close'])"
   ]
  },
  {
   "cell_type": "markdown",
   "metadata": {},
   "source": [
    "# Inference"
   ]
  },
  {
   "cell_type": "markdown",
   "metadata": {},
   "source": [
    "The test values and the predictions perfectly overlap each other. Hence, this is the best possible model to predict the futute stock prices."
   ]
  },
  {
   "cell_type": "code",
   "execution_count": 59,
   "metadata": {},
   "outputs": [],
   "source": [
    "import tkinter\n",
    "from tkinter import *"
   ]
  },
  {
   "cell_type": "code",
   "execution_count": 60,
   "metadata": {},
   "outputs": [],
   "source": [
    "top=tkinter.Tk()"
   ]
  },
  {
   "cell_type": "code",
   "execution_count": 61,
   "metadata": {},
   "outputs": [],
   "source": [
    "import tkinter.messagebox"
   ]
  },
  {
   "cell_type": "code",
   "execution_count": 62,
   "metadata": {},
   "outputs": [],
   "source": [
    "from matplotlib.figure import Figure \n",
    "from matplotlib.backends.backend_tkagg import (FigureCanvasTkAgg,  \n",
    "NavigationToolbar2Tk) "
   ]
  },
  {
   "cell_type": "code",
   "execution_count": 63,
   "metadata": {},
   "outputs": [],
   "source": [
    "top.geometry(\"500x500\")\n",
    "L1=Label(top,text=\"Enter future date format YYYY-MM-DD\")\n",
    "L1.place(x=10,y=10)\n",
    "E1=Entry(top,bd=5)\n",
    "E1.place(x=260,y=10)\n",
    "def butact():\n",
    "    s=E1.get()\n",
    "    s=pd.to_datetime(s).date()\n",
    "    s=s.toordinal()\n",
    "    c=737064\n",
    "    val=ndf[len(ndf)-60:].values\n",
    "    for i in range(c,s+1):\n",
    "        val=scaler.transform(val)\n",
    "        valv=val\n",
    "        val=np.reshape(val,(val.shape[1],val.shape[0],1))\n",
    "        fut=model.predict(val)\n",
    "        valv=np.append(valv,fut)\n",
    "        valv=np.reshape(valv,(valv.shape[0],1))\n",
    "        valv=scaler.inverse_transform(valv)\n",
    "        val=valv[1:]\n",
    "        res=valv[len(valv)-1]\n",
    "    tkinter.messagebox.showinfo(\"Predicted stock price\",res[0])\n",
    "\n",
    "B = tkinter.Button(top, text =\"Predict\", command = butact)\n",
    "B.place(x=260,y=30)\n",
    "L2=Label(top, text=\"Enter dates between 2010-07-21 to 2019-01-04\")\n",
    "L2.place(x=10,y=70)\n",
    "E2=Entry(top, bd=5)\n",
    "E2.place(x=10,y=100)\n",
    "E3=Entry(top, bd=5)\n",
    "E3.place(x=260,y=100)\n",
    "def act():\n",
    "    s2=E2.get()\n",
    "    s3=E3.get()\n",
    "    s2=pd.to_datetime(s2).date()\n",
    "    s2=s2.toordinal()\n",
    "    s3=pd.to_datetime(s3).date()\n",
    "    s3=s3.toordinal()\n",
    "    c1=733974\n",
    "    pl=ndf[s2-c1:s3-c1+1]\n",
    "    fig = Figure(figsize = (5, 5), \n",
    "                 dpi = 100) \n",
    "    plot1 = fig.add_subplot(111) \n",
    "    plot1.plot(pl['Close']);\n",
    "    canvas = FigureCanvasTkAgg(fig, \n",
    "                               master = top)   \n",
    "    canvas.draw()\n",
    "    canvas.get_tk_widget().pack()  \n",
    "    toolbar = NavigationToolbar2Tk(canvas, \n",
    "                                   top) \n",
    "    toolbar.update() \n",
    "    canvas.get_tk_widget().pack() \n",
    "B2 = tkinter.Button(top, text =\"Plot\", command = act)\n",
    "B2.place(x=250,y=150)\n",
    "top.mainloop()"
   ]
  },
  {
   "cell_type": "code",
   "execution_count": null,
   "metadata": {},
   "outputs": [],
   "source": []
  }
 ],
 "metadata": {
  "kernelspec": {
   "display_name": "Python [conda env:AntonioEnv] *",
   "language": "python",
   "name": "conda-env-AntonioEnv-py"
  },
  "language_info": {
   "codemirror_mode": {
    "name": "ipython",
    "version": 3
   },
   "file_extension": ".py",
   "mimetype": "text/x-python",
   "name": "python",
   "nbconvert_exporter": "python",
   "pygments_lexer": "ipython3",
   "version": "3.7.9"
  }
 },
 "nbformat": 4,
 "nbformat_minor": 4
}
